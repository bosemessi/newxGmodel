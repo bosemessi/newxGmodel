{
 "cells": [
  {
   "cell_type": "markdown",
   "metadata": {
    "id": "vZqecVq8Yuhc"
   },
   "source": [
    "##### Imports ######"
   ]
  },
  {
   "cell_type": "code",
   "execution_count": 1,
   "metadata": {
    "code_folding": [
     0
    ],
    "colab": {
     "base_uri": "https://localhost:8080/"
    },
    "id": "KtHztxQRYZUU",
    "outputId": "efc14c6f-c82c-43d0-a479-6e8069d83b6a"
   },
   "outputs": [],
   "source": [
    "# !pip install unidecode\n",
    "# !pip install --upgrade tables\n",
    "import os;\n",
    "import pandas as pd\n",
    "import tqdm\n",
    "import warnings\n",
    "warnings.simplefilter(action='ignore', category=pd.errors.PerformanceWarning)\n",
    "import unidecode as unidecode\n",
    "import atomicfeatures as fs\n",
    "import atomiclabels as lab"
   ]
  },
  {
   "cell_type": "markdown",
   "metadata": {
    "id": "Er1ioa7Jcd9O"
   },
   "source": [
    "##### Configure file and folder names ##########\n"
   ]
  },
  {
   "cell_type": "code",
   "execution_count": 2,
   "metadata": {
    "id": "hD4-lmzyclWD"
   },
   "outputs": [],
   "source": [
    "datafolder = os.getcwd()+'\\\\spadl\\\\'\n",
    "spadl_h5 = os.path.join(datafolder,\"atomic-spadl.h5\")\n",
    "features_h5 = os.path.join(datafolder,\"atomic-features.h5\")\n",
    "labels_h5 = os.path.join(datafolder,\"atomic-labels.h5\")\n",
    "predictions_h5 = os.path.join(datafolder,\"atomic-predictions.h5\")"
   ]
  },
  {
   "cell_type": "markdown",
   "metadata": {
    "id": "HPti4AKzcoK-"
   },
   "source": [
    "##### Read games ######"
   ]
  },
  {
   "cell_type": "code",
   "execution_count": 3,
   "metadata": {
    "colab": {
     "base_uri": "https://localhost:8080/"
    },
    "id": "Va0hYM0HcqCf",
    "outputId": "1b42c733-27c9-4397-8836-3e807fbf0bf9"
   },
   "outputs": [
    {
     "name": "stdout",
     "output_type": "stream",
     "text": [
      "nb of games: 1344\n"
     ]
    }
   ],
   "source": [
    "games = pd.read_hdf(spadl_h5,\"games\")\n",
    "print(\"nb of games:\", len(games))\n",
    "actiontypes = pd.read_hdf(spadl_h5, \"atomic_actiontypes\")\n",
    "bodyparts = pd.read_hdf(spadl_h5, \"bodyparts\")"
   ]
  },
  {
   "cell_type": "markdown",
   "metadata": {
    "id": "-5EF1VF0cql9"
   },
   "source": [
    "###### Add features ########"
   ]
  },
  {
   "cell_type": "code",
   "execution_count": 4,
   "metadata": {
    "colab": {
     "base_uri": "https://localhost:8080/"
    },
    "id": "J_74BfLJcur4",
    "outputId": "bd9b8698-8b80-4d9e-8f4a-61f2c87673c9"
   },
   "outputs": [
    {
     "name": "stderr",
     "output_type": "stream",
     "text": [
      "Generating and storing features in C:\\Users\\bosem\\OneDrive\\Desktop\\Data201920\\spadl\\atomic-features.h5: 100%|█| 1344/13\n"
     ]
    }
   ],
   "source": [
    "xfns = [fs.actiontype,\n",
    "       fs.actiontype_onehot,\n",
    "       fs.bodypart,\n",
    "       fs.bodypart_onehot,\n",
    "       fs.goalscore,\n",
    "       fs.location,\n",
    "       fs.polar,\n",
    "       fs.direction,\n",
    "       fs.team,\n",
    "       fs.time,\n",
    "       fs.time_delta\n",
    "      ]\n",
    "\n",
    "with pd.HDFStore(spadl_h5) as spadlstore, pd.HDFStore(features_h5) as featurestore:\n",
    "    for game in tqdm.tqdm(list(games.itertuples()),desc=f\"Generating and storing features in {features_h5}\"):\n",
    "        actions = spadlstore[f\"atomic_actions/game_{game.game_id}\"]\n",
    "        actions = (\n",
    "            actions.merge(actiontypes,how=\"left\")\n",
    "            .merge(bodyparts,how=\"left\")\n",
    "            .reset_index(drop=True)\n",
    "        )\n",
    "        gamestates = fs.gamestates(actions,2)\n",
    "        gamestates = fs.play_left_to_right(gamestates,game.home_team_id)\n",
    "\n",
    "        X = pd.concat([fn(gamestates) for fn in xfns],axis=1)\n",
    "        featurestore[f\"game_{game.game_id}\"] = X"
   ]
  },
  {
   "cell_type": "markdown",
   "metadata": {
    "id": "uI2_VnJXcvIW"
   },
   "source": [
    "###### Add labels ######"
   ]
  },
  {
   "cell_type": "code",
   "execution_count": 5,
   "metadata": {},
   "outputs": [
    {
     "name": "stderr",
     "output_type": "stream",
     "text": [
      "Computing and storing labels in C:\\Users\\bosem\\OneDrive\\Desktop\\Data201920\\spadl\\atomic-labels.h5: 100%|█| 1344/1344 [0\n"
     ]
    }
   ],
   "source": [
    "yfns = [lab.scores,lab.concedes,lab.goal_from_shot]\n",
    "\n",
    "with pd.HDFStore(spadl_h5) as spadlstore, pd.HDFStore(labels_h5) as labelstore:\n",
    "    for game in tqdm.tqdm(list(games.itertuples()),desc=f\"Computing and storing labels in {labels_h5}\"):\n",
    "        actions = spadlstore[f\"atomic_actions/game_{game.game_id}\"]\n",
    "        actions = (\n",
    "            actions.merge(actiontypes,how=\"left\")\n",
    "            .merge(bodyparts,how=\"left\")\n",
    "            .reset_index(drop=True)\n",
    "        )\n",
    "        Y = pd.concat([fn(actions) for fn in yfns],axis=1)\n",
    "        labelstore[f\"game_{game.game_id}\"] = Y"
   ]
  },
  {
   "cell_type": "code",
   "execution_count": null,
   "metadata": {},
   "outputs": [],
   "source": []
  }
 ],
 "metadata": {
  "colab": {
   "name": "features_and_labels.ipynb",
   "provenance": []
  },
  "kernelspec": {
   "display_name": "Python 3",
   "language": "python",
   "name": "python3"
  },
  "language_info": {
   "codemirror_mode": {
    "name": "ipython",
    "version": 3
   },
   "file_extension": ".py",
   "mimetype": "text/x-python",
   "name": "python",
   "nbconvert_exporter": "python",
   "pygments_lexer": "ipython3",
   "version": "3.7.6"
  }
 },
 "nbformat": 4,
 "nbformat_minor": 1
}
