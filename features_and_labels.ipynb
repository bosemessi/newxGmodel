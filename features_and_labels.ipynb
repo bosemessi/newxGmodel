{
 "cells": [
  {
   "cell_type": "code",
   "execution_count": 1,
   "metadata": {
    "code_folding": [
     0
    ]
   },
   "outputs": [],
   "source": [
    "# !pip install unidecode\n",
    "# !pip install --upgrade tables\n",
    "import os;\n",
    "import pandas as pd\n",
    "import tqdm\n",
    "import warnings\n",
    "warnings.simplefilter(action='ignore', category=pd.errors.PerformanceWarning)\n",
    "import unidecode as unidecode\n",
    "import features as fs\n",
    "import labels as lab"
   ]
  },
  {
   "cell_type": "code",
   "execution_count": 2,
   "metadata": {
    "code_folding": [
     0
    ]
   },
   "outputs": [],
   "source": [
    "#Configure file and folder names\n",
    "datafolder = os.getcwd()+'\\\\spadl\\\\'\n",
    "spadl_h5 = os.path.join(datafolder,\"spadl.h5\")\n",
    "features_h5 = os.path.join(datafolder,\"features.h5\")\n",
    "labels_h5 = os.path.join(datafolder,\"labels.h5\")\n",
    "predictions_h5 = os.path.join(datafolder,\"predictions.h5\")"
   ]
  },
  {
   "cell_type": "code",
   "execution_count": 5,
   "metadata": {
    "code_folding": [
     0
    ]
   },
   "outputs": [
    {
     "name": "stdout",
     "output_type": "stream",
     "text": [
      "nb of games: 1344\n"
     ]
    }
   ],
   "source": [
    "#Read games\n",
    "games = pd.read_hdf(spadl_h5,\"games\")\n",
    "print(\"nb of games:\", len(games))\n",
    "actiontypes = pd.read_hdf(spadl_h5, \"actiontypes\")\n",
    "bodyparts = pd.read_hdf(spadl_h5, \"bodyparts\")\n",
    "results = pd.read_hdf(spadl_h5, \"results\")"
   ]
  },
  {
   "cell_type": "code",
   "execution_count": 6,
   "metadata": {
    "code_folding": [
     0
    ]
   },
   "outputs": [
    {
     "name": "stderr",
     "output_type": "stream",
     "text": [
      "Generating and storing features in C:\\Users\\bosem\\OneDrive\\Desktop\\Data201920\\spadl\\features.h5: 100%|█| 1344/1344 [04:\n"
     ]
    }
   ],
   "source": [
    "#Features\n",
    "xfns = [fs.actiontype,\n",
    "       fs.actiontype_onehot,\n",
    "       fs.bodypart,\n",
    "       fs.bodypart_onehot,\n",
    "       fs.result,\n",
    "       fs.result_onehot,\n",
    "       fs.goalscore,\n",
    "       fs.startlocation,\n",
    "       fs.endlocation,\n",
    "       fs.movement,\n",
    "       fs.space_delta,\n",
    "       fs.startpolar,\n",
    "       fs.endpolar,\n",
    "       fs.team,\n",
    "       fs.time,\n",
    "       fs.time_delta\n",
    "      ]\n",
    "\n",
    "for game in tqdm.tqdm(list(games.itertuples()),desc=f\"Generating and storing features in {features_h5}\"):\n",
    "    actions = pd.read_hdf(spadl_h5,f\"actions/game_{game.game_id}\")\n",
    "    actions = (\n",
    "        actions.merge(actiontypes,how=\"left\")\n",
    "        .merge(results,how=\"left\")\n",
    "        .merge(bodyparts,how=\"left\")\n",
    "        .reset_index(drop=True)\n",
    "    )\n",
    "    gamestates = fs.gamestates(actions,3)\n",
    "    gamestates = fs.play_left_to_right(gamestates,game.home_team_id)\n",
    "    \n",
    "    X = pd.concat([fn(gamestates) for fn in xfns],axis=1)\n",
    "    X.to_hdf(features_h5,f\"game_{game.game_id}\")"
   ]
  },
  {
   "cell_type": "code",
   "execution_count": 7,
   "metadata": {
    "code_folding": [
     0
    ]
   },
   "outputs": [
    {
     "name": "stderr",
     "output_type": "stream",
     "text": [
      "Computing and storing labels in C:\\Users\\bosem\\OneDrive\\Desktop\\Data201920\\spadl\\labels.h5: 100%|█| 1344/1344 [02:07<00\n"
     ]
    }
   ],
   "source": [
    "#Labels \n",
    "yfns = [lab.scores,lab.concedes,lab.goal_from_shot]\n",
    "\n",
    "for game in tqdm.tqdm(list(games.itertuples()),desc=f\"Computing and storing labels in {labels_h5}\"):\n",
    "    actions = pd.read_hdf(spadl_h5,f\"actions/game_{game.game_id}\")\n",
    "    actions = (\n",
    "        actions.merge(actiontypes,how=\"left\")\n",
    "        .merge(results,how=\"left\")\n",
    "        .merge(bodyparts,how=\"left\")\n",
    "        .reset_index(drop=True)\n",
    "    )\n",
    "    \n",
    "    Y = pd.concat([fn(actions) for fn in yfns],axis=1)\n",
    "    Y.to_hdf(labels_h5,f\"game_{game.game_id}\")"
   ]
  },
  {
   "cell_type": "code",
   "execution_count": null,
   "metadata": {},
   "outputs": [],
   "source": []
  }
 ],
 "metadata": {
  "kernelspec": {
   "display_name": "Python 3",
   "language": "python",
   "name": "python3"
  },
  "language_info": {
   "codemirror_mode": {
    "name": "ipython",
    "version": 3
   },
   "file_extension": ".py",
   "mimetype": "text/x-python",
   "name": "python",
   "nbconvert_exporter": "python",
   "pygments_lexer": "ipython3",
   "version": "3.7.6"
  }
 },
 "nbformat": 4,
 "nbformat_minor": 4
}
