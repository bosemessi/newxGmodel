{
 "cells": [
  {
   "cell_type": "markdown",
   "metadata": {
    "id": "UiMBeElasI7L"
   },
   "source": [
    "#### Imports and file names ####\n"
   ]
  },
  {
   "cell_type": "code",
   "execution_count": 1,
   "metadata": {
    "code_folding": [
     0
    ],
    "colab": {
     "base_uri": "https://localhost:8080/"
    },
    "id": "3zuvxxmLw8CZ",
    "outputId": "c96c6106-830f-4363-b3c7-2f6969dc6899"
   },
   "outputs": [],
   "source": [
    "# !pip install unidecode\n",
    "# !pip install --upgrade tables"
   ]
  },
  {
   "cell_type": "code",
   "execution_count": 2,
   "metadata": {
    "code_folding": [
     0
    ],
    "id": "McPUuCIKsojg"
   },
   "outputs": [],
   "source": [
    "# Imports\n",
    "import os; import sys;\n",
    "import tqdm\n",
    "import requests\n",
    "import mimetypes\n",
    "import zipfile\n",
    "import math\n",
    "import pandas as pd\n",
    "pd.set_option('display.max_columns', None)\n",
    "# LLpath = os.getcwd()+'/drive/MyDrive/Data201920/LL201920/'\n",
    "LLpath = os.getcwd()+'\\\\LL201920\\\\'\n",
    "BLpath = os.getcwd()+'\\\\BL201920\\\\'\n",
    "L1path = os.getcwd()+'\\\\L1201920\\\\'\n",
    "SApath = os.getcwd()+'\\\\SA201920\\\\'\n",
    "import ws as ws"
   ]
  },
  {
   "cell_type": "code",
   "execution_count": 3,
   "metadata": {
    "code_folding": [
     0
    ],
    "id": "1B82uEV2sqNQ"
   },
   "outputs": [],
   "source": [
    "# Create spadl and raw data folders\n",
    "spadl_datafolder = os.getcwd()+'\\\\spadl\\\\'\n",
    "raw_datafolder = os.getcwd()+'\\\\raw\\\\'\n",
    "\n",
    "# Create data folder if it doesn't exist\n",
    "for d in [raw_datafolder, spadl_datafolder]:\n",
    "    if not os.path.exists(d):\n",
    "        os.makedirs(d, exist_ok=True)\n",
    "        print(f\"Directory {d} created \")"
   ]
  },
  {
   "cell_type": "code",
   "execution_count": 4,
   "metadata": {
    "colab": {
     "base_uri": "https://localhost:8080/"
    },
    "id": "SNhAuXRNtCe_",
    "outputId": "063ddab4-99fa-435c-b1ab-4b390a4fe4f6"
   },
   "outputs": [
    {
     "name": "stderr",
     "output_type": "stream",
     "text": [
      "  0%|                                                                                         | 0/1344 [00:00<?, ?it/s]C:\\Users\\bosem\\anaconda3\\lib\\site-packages\\ipykernel_launcher.py:6: PerformanceWarning: \n",
      "your performance may suffer as PyTables will pickle object types that it cannot\n",
      "map directly to c-types [inferred_type->mixed,key->block2_values] [items->Index(['qualifiers'], dtype='object')]\n",
      "\n",
      "  \n",
      "100%|██████████████████████████████████████████████████████████████████████████████| 1344/1344 [03:09<00:00,  7.08it/s]\n",
      "C:\\Users\\bosem\\anaconda3\\lib\\site-packages\\ipykernel_launcher.py:6: PerformanceWarning: \n",
      "your performance may suffer as PyTables will pickle object types that it cannot\n",
      "map directly to c-types [inferred_type->mixed,key->block1_values] [items->Index(['side', 'score'], dtype='object')]\n",
      "\n",
      "  \n"
     ]
    }
   ],
   "source": [
    "json_files = [LLpath+pos_json for pos_json in os.listdir(LLpath) if pos_json.endswith('.json')] + \\\n",
    "            [BLpath+pos_json for pos_json in os.listdir(BLpath) if pos_json.endswith('.json')] + \\\n",
    "            [L1path+pos_json for pos_json in os.listdir(L1path) if pos_json.endswith('.json')] + \\\n",
    "            [SApath+pos_json for pos_json in os.listdir(SApath) if pos_json.endswith('.json')]\n",
    "w_h5 = os.path.join(raw_datafolder, 'w.h5')\n",
    "ws.jsonfiles_to_h5(json_files,w_h5,append=True)"
   ]
  },
  {
   "cell_type": "code",
   "execution_count": 5,
   "metadata": {
    "id": "khD6iEgvtvTz"
   },
   "outputs": [],
   "source": [
    "spadl_h5 = os.path.join(spadl_datafolder, \"spadl.h5\")"
   ]
  },
  {
   "cell_type": "code",
   "execution_count": 6,
   "metadata": {
    "colab": {
     "base_uri": "https://localhost:8080/"
    },
    "id": "mUk4iTwovl8W",
    "outputId": "bf3dd057-189c-4801-ea32-af7ed6b216e5"
   },
   "outputs": [
    {
     "name": "stderr",
     "output_type": "stream",
     "text": [
      "C:\\Users\\bosem\\anaconda3\\lib\\site-packages\\ipykernel_launcher.py:1: PerformanceWarning: \n",
      "your performance may suffer as PyTables will pickle object types that it cannot\n",
      "map directly to c-types [inferred_type->mixed,key->block1_values] [items->Index(['side', 'score'], dtype='object')]\n",
      "\n",
      "  \"\"\"Entry point for launching an IPython kernel.\n",
      "100%|██████████████████████████████████████████████████████████████████████████████| 1344/1344 [04:09<00:00,  5.38it/s]\n"
     ]
    }
   ],
   "source": [
    "ws.convert_to_spadl(w_h5,spadl_h5)"
   ]
  },
  {
   "cell_type": "code",
   "execution_count": 7,
   "metadata": {
    "colab": {
     "base_uri": "https://localhost:8080/"
    },
    "id": "1TFnCW0LvobU",
    "outputId": "f8490cde-925f-433c-eca0-25cced0f2cc4"
   },
   "outputs": [
    {
     "name": "stdout",
     "output_type": "stream",
     "text": [
      "nb of games: 1344\n"
     ]
    }
   ],
   "source": [
    "# Read games\n",
    "games = pd.read_hdf(spadl_h5,\"games\")\n",
    "print(\"nb of games:\", len(games))"
   ]
  },
  {
   "cell_type": "code",
   "execution_count": 8,
   "metadata": {
    "id": "BTx1rnFN-EZ6"
   },
   "outputs": [],
   "source": [
    "players = pd.read_hdf(spadl_h5,\"players\")\n",
    "teams = pd.read_hdf(spadl_h5,\"teams\")\n",
    "actiontypes = pd.read_hdf(spadl_h5, \"actiontypes\")\n",
    "bodyparts = pd.read_hdf(spadl_h5, \"bodyparts\")\n",
    "results = pd.read_hdf(spadl_h5, \"results\")\n",
    "# players['player_id'] = players['player_id']"
   ]
  },
  {
   "cell_type": "code",
   "execution_count": 25,
   "metadata": {
    "code_folding": [],
    "id": "qwDJ1zeP-Ilq"
   },
   "outputs": [],
   "source": [
    "import atomic as atomicspadl\n",
    "import config as spadl"
   ]
  },
  {
   "cell_type": "code",
   "execution_count": 26,
   "metadata": {
    "code_folding": [],
    "colab": {
     "base_uri": "https://localhost:8080/"
    },
    "id": "8Ef2sncd-Ti_",
    "outputId": "98d45c25-ca1f-4ca2-92d2-b18a1571d9cc"
   },
   "outputs": [
    {
     "name": "stderr",
     "output_type": "stream",
     "text": [
      "100%|██████████████████████████████████████████████████████████████████████████████| 1344/1344 [03:07<00:00,  7.18it/s]\n"
     ]
    }
   ],
   "source": [
    "atomicactions = {}\n",
    "for game in tqdm.tqdm(list(games.itertuples())):\n",
    "    actions = pd.read_hdf(spadl_h5,f\"actions/game_{game.game_id}\")\n",
    "    actions['action_id'] = range(len(actions))\n",
    "    atomicactions[game.game_id] = atomicspadl.convert_to_atomic(actions)"
   ]
  },
  {
   "cell_type": "code",
   "execution_count": 29,
   "metadata": {
    "code_folding": [],
    "id": "mz8oyFLY-9Fx"
   },
   "outputs": [],
   "source": [
    "atomic_spadl_h5 = os.path.join(spadl_datafolder, \"atomic-spadl.h5\")\n",
    "\n",
    "# Store all spadl data in h5-file\n",
    "with pd.HDFStore(atomic_spadl_h5) as spadlstore:\n",
    "    spadlstore[\"games\"] = games\n",
    "    spadlstore[\"teams\"] = teams\n",
    "    spadlstore[\"players\"] = players\n",
    "    for game_id in atomicactions.keys():\n",
    "        spadlstore[f\"atomic_actions/game_{game_id}\"] = atomicactions[game_id]\n",
    "\n",
    "    spadlstore[\"results\"] = spadl.results_df()\n",
    "    spadlstore[\"bodyparts\"] = spadl.bodyparts_df()\n",
    "    spadlstore[\"atomic_actiontypes\"] = atomicspadl.actiontypes_df()"
   ]
  },
  {
   "cell_type": "code",
   "execution_count": 30,
   "metadata": {
    "code_folding": [],
    "colab": {
     "base_uri": "https://localhost:8080/"
    },
    "id": "LaiOUX4JCpgh",
    "outputId": "e36c4a40-0840-4376-a4f5-77b76a8b0d09"
   },
   "outputs": [
    {
     "name": "stdout",
     "output_type": "stream",
     "text": [
      "nb of games: 1344\n"
     ]
    }
   ],
   "source": [
    "# Read games back from atomic spadl to check\n",
    "agames = pd.read_hdf(atomic_spadl_h5,\"games\")\n",
    "print(\"nb of games:\", len(games))"
   ]
  },
  {
   "cell_type": "code",
   "execution_count": null,
   "metadata": {},
   "outputs": [],
   "source": []
  }
 ],
 "metadata": {
  "colab": {
   "collapsed_sections": [],
   "name": "convert_to_spadl.ipynb",
   "provenance": [],
   "toc_visible": true
  },
  "kernelspec": {
   "display_name": "Python 3",
   "language": "python",
   "name": "python3"
  },
  "language_info": {
   "codemirror_mode": {
    "name": "ipython",
    "version": 3
   },
   "file_extension": ".py",
   "mimetype": "text/x-python",
   "name": "python",
   "nbconvert_exporter": "python",
   "pygments_lexer": "ipython3",
   "version": "3.7.6"
  }
 },
 "nbformat": 4,
 "nbformat_minor": 1
}
